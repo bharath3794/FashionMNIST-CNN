{
 "cells": [
  {
   "cell_type": "code",
   "execution_count": 1,
   "metadata": {},
   "outputs": [],
   "source": [
    "import os\n",
    "import numpy as np\n",
    "import matplotlib.pyplot as plt\n",
    "import torch\n",
    "import torch.nn as nn\n",
    "import torch.nn.functional as F\n",
    "import torch.optim as optim\n",
    "from torch.utils.data import DataLoader\n",
    "from torchvision import datasets, transforms\n",
    "from torch.utils.tensorboard import SummaryWriter\n",
    "from torchsummary import summary"
   ]
  },
  {
   "cell_type": "markdown",
   "metadata": {},
   "source": [
    "## Data Preparation\n",
    "#### [FashionMNIST available in PyTorch Datasets](https://pytorch.org/docs/stable/_modules/torchvision/datasets/mnist.html#FashionMNIST)"
   ]
  },
  {
   "cell_type": "code",
   "execution_count": 2,
   "metadata": {},
   "outputs": [
    {
     "name": "stdout",
     "output_type": "stream",
     "text": [
      "Downloading http://fashion-mnist.s3-website.eu-central-1.amazonaws.com/train-images-idx3-ubyte.gz to ./torchdataset/FashionMNIST\\raw\\train-images-idx3-ubyte.gz\n"
     ]
    },
    {
     "data": {
      "application/vnd.jupyter.widget-view+json": {
       "model_id": "0e71bd58b30d4119ad77beab9eb8de6b",
       "version_major": 2,
       "version_minor": 0
      },
      "text/plain": [
       "0it [00:00, ?it/s]"
      ]
     },
     "metadata": {},
     "output_type": "display_data"
    },
    {
     "name": "stdout",
     "output_type": "stream",
     "text": [
      "Extracting ./torchdataset/FashionMNIST\\raw\\train-images-idx3-ubyte.gz to ./torchdataset/FashionMNIST\\raw\n",
      "Downloading http://fashion-mnist.s3-website.eu-central-1.amazonaws.com/train-labels-idx1-ubyte.gz to ./torchdataset/FashionMNIST\\raw\\train-labels-idx1-ubyte.gz\n"
     ]
    },
    {
     "data": {
      "application/vnd.jupyter.widget-view+json": {
       "model_id": "2b1815edea3241e9a094a92d849fdeca",
       "version_major": 2,
       "version_minor": 0
      },
      "text/plain": [
       "0it [00:00, ?it/s]"
      ]
     },
     "metadata": {},
     "output_type": "display_data"
    },
    {
     "name": "stdout",
     "output_type": "stream",
     "text": [
      "Extracting ./torchdataset/FashionMNIST\\raw\\train-labels-idx1-ubyte.gz to ./torchdataset/FashionMNIST\\raw\n",
      "Downloading http://fashion-mnist.s3-website.eu-central-1.amazonaws.com/t10k-images-idx3-ubyte.gz to ./torchdataset/FashionMNIST\\raw\\t10k-images-idx3-ubyte.gz\n"
     ]
    },
    {
     "data": {
      "application/vnd.jupyter.widget-view+json": {
       "model_id": "b8ef5339fdce4086a1340baf9b277992",
       "version_major": 2,
       "version_minor": 0
      },
      "text/plain": [
       "0it [00:00, ?it/s]"
      ]
     },
     "metadata": {},
     "output_type": "display_data"
    },
    {
     "name": "stdout",
     "output_type": "stream",
     "text": [
      "Extracting ./torchdataset/FashionMNIST\\raw\\t10k-images-idx3-ubyte.gz to ./torchdataset/FashionMNIST\\raw\n",
      "Downloading http://fashion-mnist.s3-website.eu-central-1.amazonaws.com/t10k-labels-idx1-ubyte.gz to ./torchdataset/FashionMNIST\\raw\\t10k-labels-idx1-ubyte.gz\n"
     ]
    },
    {
     "data": {
      "application/vnd.jupyter.widget-view+json": {
       "model_id": "373a2cf34f5b434da8f319b4f4973e18",
       "version_major": 2,
       "version_minor": 0
      },
      "text/plain": [
       "0it [00:00, ?it/s]"
      ]
     },
     "metadata": {},
     "output_type": "display_data"
    },
    {
     "name": "stdout",
     "output_type": "stream",
     "text": [
      "Extracting ./torchdataset/FashionMNIST\\raw\\t10k-labels-idx1-ubyte.gz to ./torchdataset/FashionMNIST\\raw\n",
      "Processing...\n",
      "Done!\n"
     ]
    },
    {
     "name": "stderr",
     "output_type": "stream",
     "text": [
      "c:\\programdata\\anaconda3\\lib\\site-packages\\torchvision\\datasets\\mnist.py:469: UserWarning: The given NumPy array is not writeable, and PyTorch does not support non-writeable tensors. This means you can write to the underlying (supposedly non-writeable) NumPy array using the tensor. You may want to copy the array to protect its data or make it writeable before converting it to a tensor. This type of warning will be suppressed for the rest of this program. (Triggered internally at  ..\\torch\\csrc\\utils\\tensor_numpy.cpp:141.)\n",
      "  return torch.from_numpy(parsed.astype(m[2], copy=False)).view(*s)\n"
     ]
    }
   ],
   "source": [
    "# Tranforms applied on Original Dataset\n",
    "\n",
    "transform = transforms.Compose([\n",
    "        transforms.RandomHorizontalFlip(),\n",
    "        transforms.ToTensor()\n",
    "        ])\n",
    "\n",
    "train_set = datasets.FashionMNIST('./torchdataset/', train=True, download=True, transform=transform)\n",
    "val_test_set = datasets.FashionMNIST('./torchdataset/', train=False, download=True, transform=transform)"
   ]
  },
  {
   "cell_type": "code",
   "execution_count": 3,
   "metadata": {},
   "outputs": [
    {
     "data": {
      "text/plain": [
       "['T-shirt/top',\n",
       " 'Trouser',\n",
       " 'Pullover',\n",
       " 'Dress',\n",
       " 'Coat',\n",
       " 'Sandal',\n",
       " 'Shirt',\n",
       " 'Sneaker',\n",
       " 'Bag',\n",
       " 'Ankle boot']"
      ]
     },
     "execution_count": 3,
     "metadata": {},
     "output_type": "execute_result"
    }
   ],
   "source": [
    "# Classes/Labels in Fashion-MNIST Dataset\n",
    "\n",
    "classes = train_set.classes\n",
    "classes"
   ]
  },
  {
   "cell_type": "code",
   "execution_count": 4,
   "metadata": {},
   "outputs": [],
   "source": [
    "def get_train_test_split(targets_arr, num_classes=10, test_size=2000):\n",
    "    '''\n",
    "    Split a dataset into two in a stratified manner and return the indices of each split\n",
    "    Input: Targets of Dataset as a List type\n",
    "    Output: Spit given input into two list of indices based on the index of Targets List    \n",
    "    '''\n",
    "    test_labels = {}\n",
    "    each_class = test_size/num_classes\n",
    "    for i in range(num_classes):\n",
    "        test_labels[i] = 0\n",
    "    val_indices = []\n",
    "    test_indices = []\n",
    "    for i in range(len(targets_arr)):\n",
    "        if test_labels[targets_arr[i]] < each_class:\n",
    "            test_indices.append(i)\n",
    "            test_labels[targets_arr[i]] += 1\n",
    "        else:\n",
    "            val_indices.append(i)\n",
    "    return val_indices, test_indices"
   ]
  },
  {
   "cell_type": "code",
   "execution_count": 5,
   "metadata": {},
   "outputs": [],
   "source": [
    "# Split the test data indices (10000 samples) to validation (8000 samples) and test indices (2000 samples)\n",
    "# Performed a stratified split\n",
    "\n",
    "valid_indices, test_indices = get_train_test_split(val_test_set.targets.numpy())"
   ]
  },
  {
   "cell_type": "code",
   "execution_count": 6,
   "metadata": {},
   "outputs": [],
   "source": [
    "# Using above indices split test dataset (10000 samples) to validation (8000 samples) and test set (2000 samples)\n",
    "\n",
    "valid_set = torch.utils.data.Subset(val_test_set, valid_indices)\n",
    "test_set = torch.utils.data.Subset(val_test_set, test_indices)"
   ]
  },
  {
   "cell_type": "code",
   "execution_count": 7,
   "metadata": {},
   "outputs": [],
   "source": [
    "def get_train_valid_test_loaders(train_set, valid_set, test_set, batch_size=128, num_workers=4):\n",
    "    '''\n",
    "    Input: Train, Validation, Test datasets (also Batch Size)\n",
    "    Output: Train, Validation, Test Loaders\n",
    "    '''\n",
    "    train_loader = DataLoader(train_set, batch_size=batch_size, shuffle=True, num_workers=num_workers)\n",
    "    valid_loader = DataLoader(valid_set, batch_size=batch_size, shuffle=False, num_workers=num_workers)\n",
    "    test_loader = DataLoader(test_set, batch_size=batch_size, shuffle=False, num_workers=num_workers)\n",
    "    return train_loader, valid_loader, test_loader"
   ]
  },
  {
   "cell_type": "markdown",
   "metadata": {},
   "source": [
    "## Dataset Analysis and Visualization"
   ]
  },
  {
   "cell_type": "code",
   "execution_count": 8,
   "metadata": {},
   "outputs": [],
   "source": [
    "# Get Train, Validation and Test loaders from Train, Validation and Test sets (here batch_size=1)\n",
    "\n",
    "train_loader, valid_loader, test_loader = get_train_valid_test_loaders(train_set, valid_set, test_set, \n",
    "                                                                       batch_size=1, num_workers=4)"
   ]
  },
  {
   "cell_type": "code",
   "execution_count": 9,
   "metadata": {},
   "outputs": [],
   "source": [
    "def view_data_samples(data_loader, classes):\n",
    "    '''\n",
    "    This function shows the sample images for each class from the passed data_loader \n",
    "    '''\n",
    "    label_names = classes\n",
    "    printed = {}\n",
    "    axs = [(2,5,1), (2,5,2), (2,5,3), (2,5,4), (2,5,5), (2,5,6), (2,5,7), (2,5,8), (2,5,9), (2,5,10)]\n",
    "    plt.figure(0, figsize=(15, 7))\n",
    "    i = 0\n",
    "    for cur_item in data_loader:\n",
    "        cur_class = cur_item[1].item()\n",
    "        if len(printed) == 10:\n",
    "            break\n",
    "        if cur_class not in printed:\n",
    "            plt.subplot(*axs[i]), plt.imshow(cur_item[0][0].permute(1, 2, 0), cmap='gray')\n",
    "            plt.title(label_names[cur_class])\n",
    "            printed[cur_class] = 1\n",
    "            i += 1"
   ]
  },
  {
   "cell_type": "code",
   "execution_count": 10,
   "metadata": {},
   "outputs": [
    {
     "data": {
      "image/png": "[encoded data removed]",
      "text/plain": [
       "<Figure size 1080x504 with 10 Axes>"
      ]
     },
     "metadata": {
      "needs_background": "light"
     },
     "output_type": "display_data"
    }
   ],
   "source": [
    "# To view one sample from each class of the Dataset\n",
    "\n",
    "view_data_samples(train_loader, classes)"
   ]
  },
  {
   "cell_type": "code",
   "execution_count": 11,
   "metadata": {},
   "outputs": [],
   "source": [
    "def get_data_stats(data_loader, label_names):\n",
    "    '''\n",
    "    Return a dictionary with each class/label as a key and its no. of samples as its value\n",
    "    '''\n",
    "    classes = {}\n",
    "    for item in data_loader:\n",
    "        curClass = item[1].item()\n",
    "        if label_names[curClass] not in classes:\n",
    "            classes[label_names[curClass]] = 1\n",
    "        else:\n",
    "            classes[label_names[curClass]] += 1\n",
    "    return classes"
   ]
  },
  {
   "cell_type": "code",
   "execution_count": 12,
   "metadata": {},
   "outputs": [
    {
     "name": "stdout",
     "output_type": "stream",
     "text": [
      "No.of Samples in Train Set = 60000\n"
     ]
    },
    {
     "data": {
      "text/plain": [
       "{'Dress': 6000,\n",
       " 'Sneaker': 6000,\n",
       " 'Coat': 6000,\n",
       " 'Shirt': 6000,\n",
       " 'Pullover': 6000,\n",
       " 'Trouser': 6000,\n",
       " 'Sandal': 6000,\n",
       " 'Bag': 6000,\n",
       " 'T-shirt/top': 6000,\n",
       " 'Ankle boot': 6000}"
      ]
     },
     "execution_count": 12,
     "metadata": {},
     "output_type": "execute_result"
    }
   ],
   "source": [
    "train_set_stats = get_data_stats(train_loader, classes)\n",
    "print(f\"No.of Samples in Train Set = {sum(list(train_set_stats.values()))}\")\n",
    "train_set_stats"
   ]
  },
  {
   "cell_type": "code",
   "execution_count": 13,
   "metadata": {},
   "outputs": [
    {
     "name": "stdout",
     "output_type": "stream",
     "text": [
      "No.of Samples in Validation Set = 8000\n"
     ]
    },
    {
     "data": {
      "text/plain": [
       "{'Coat': 800,\n",
       " 'Pullover': 800,\n",
       " 'Trouser': 800,\n",
       " 'Sneaker': 800,\n",
       " 'Shirt': 800,\n",
       " 'T-shirt/top': 800,\n",
       " 'Sandal': 800,\n",
       " 'Dress': 800,\n",
       " 'Bag': 800,\n",
       " 'Ankle boot': 800}"
      ]
     },
     "execution_count": 13,
     "metadata": {},
     "output_type": "execute_result"
    }
   ],
   "source": [
    "valid_set_stats = get_data_stats(valid_loader, classes)\n",
    "print(f\"No.of Samples in Validation Set = {sum(list(valid_set_stats.values()))}\")\n",
    "valid_set_stats"
   ]
  },
  {
   "cell_type": "code",
   "execution_count": 14,
   "metadata": {},
   "outputs": [
    {
     "name": "stdout",
     "output_type": "stream",
     "text": [
      "No.of Samples in Test Set = 2000\n"
     ]
    },
    {
     "data": {
      "text/plain": [
       "{'Ankle boot': 200,\n",
       " 'Pullover': 200,\n",
       " 'Trouser': 200,\n",
       " 'Shirt': 200,\n",
       " 'Coat': 200,\n",
       " 'Sandal': 200,\n",
       " 'Sneaker': 200,\n",
       " 'Dress': 200,\n",
       " 'Bag': 200,\n",
       " 'T-shirt/top': 200}"
      ]
     },
     "execution_count": 14,
     "metadata": {},
     "output_type": "execute_result"
    }
   ],
   "source": [
    "test_set_stats = get_data_stats(test_loader, classes)\n",
    "print(f\"No.of Samples in Test Set = {sum(list(test_set_stats.values()))}\")\n",
    "test_set_stats"
   ]
  },
  {
   "cell_type": "code",
   "execution_count": 15,
   "metadata": {},
   "outputs": [
    {
     "data": {
      "text/plain": [
       "{'Train': 60000, 'Validation': 8000, 'Test': 2000}"
      ]
     },
     "execution_count": 15,
     "metadata": {},
     "output_type": "execute_result"
    }
   ],
   "source": [
    "data_split_stats = {'Train':len(train_loader), 'Validation':len(valid_loader), 'Test':len(test_loader)}\n",
    "data_split_stats"
   ]
  },
  {
   "cell_type": "code",
   "execution_count": 16,
   "metadata": {},
   "outputs": [],
   "source": [
    "def display_plot(dataset_stats, xlabel=\"No. of Samples\", ylabel=\"Classes\", title='', color='royalblue'):\n",
    "    '''\n",
    "    Plots the passed dataset_stats dictionary with its keys as Labels and values as no. of samples for that label\n",
    "    '''\n",
    "    labels = list(dataset_stats.keys())\n",
    "    n_samples = list(dataset_stats.values())\n",
    "    plt.figure(figsize=(13, 5))\n",
    "    # creating the bar plot \n",
    "    plt.barh(labels, n_samples, color='royalblue')\n",
    "    for label, samples in zip(labels, n_samples):\n",
    "        plt.text(samples, label, str(samples), color='red')\n",
    "\n",
    "    plt.xlabel(xlabel)\n",
    "    plt.ylabel(ylabel)\n",
    "    plt.title(title)\n",
    "    plt.show()"
   ]
  },
  {
   "cell_type": "code",
   "execution_count": 17,
   "metadata": {},
   "outputs": [
    {
     "data": {
      "image/png": "[encoded data removed]",
      "text/plain": [
       "<Figure size 936x360 with 1 Axes>"
      ]
     },
     "metadata": {
      "needs_background": "light"
     },
     "output_type": "display_data"
    }
   ],
   "source": [
    "# Train_Validation_Test Split Bar Chart\n",
    "\n",
    "display_plot(data_split_stats, ylabel=\"Type of Set\", title=\"Train_Valid_Test Splits\")"
   ]
  },
  {
   "cell_type": "code",
   "execution_count": 18,
   "metadata": {
    "scrolled": true
   },
   "outputs": [
    {
     "data": {
      "image/png": "[encoded data removed]",
      "text/plain": [
       "<Figure size 936x360 with 1 Axes>"
      ]
     },
     "metadata": {
      "needs_background": "light"
     },
     "output_type": "display_data"
    }
   ],
   "source": [
    "# Train Set Bar Chart for each class\n",
    "\n",
    "display_plot(train_set_stats, title=\"Train Set\")"
   ]
  },
  {
   "cell_type": "code",
   "execution_count": 19,
   "metadata": {},
   "outputs": [
    {
     "data": {
      "image/png": "[encoded data removed]",
      "text/plain": [
       "<Figure size 936x360 with 1 Axes>"
      ]
     },
     "metadata": {
      "needs_background": "light"
     },
     "output_type": "display_data"
    }
   ],
   "source": [
    "# Validation Set Bar Chart for each class\n",
    "\n",
    "display_plot(valid_set_stats, title=\"Valid Set\")"
   ]
  },
  {
   "cell_type": "code",
   "execution_count": 20,
   "metadata": {},
   "outputs": [
    {
     "data": {
      "image/png": "[encoded data removed]",
      "text/plain": [
       "<Figure size 936x360 with 1 Axes>"
      ]
     },
     "metadata": {
      "needs_background": "light"
     },
     "output_type": "display_data"
    }
   ],
   "source": [
    "# Test Set Bar Chart for each class\n",
    "\n",
    "display_plot(test_set_stats, title=\"Test Set\")"
   ]
  },
  {
   "cell_type": "markdown",
   "metadata": {},
   "source": [
    "## CNN Model with Dropout"
   ]
  },
  {
   "cell_type": "code",
   "execution_count": 21,
   "metadata": {},
   "outputs": [],
   "source": [
    "class ConvNet(nn.Module):\n",
    "    def __init__(self):\n",
    "        super(ConvNet, self).__init__()\n",
    "        self.conv1 = nn.Conv2d(in_channels=1, out_channels=32, kernel_size=3, stride=1, padding=1)\n",
    "        self.batch_norm1 = nn.BatchNorm2d(32)\n",
    "        self.conv2 = nn.Conv2d(in_channels=32, out_channels=64, kernel_size=3, stride=1, padding=0)\n",
    "        self.batch_norm2 = nn.BatchNorm2d(64)\n",
    "        \n",
    "        self.fc1 = nn.Linear(64*6*6, 1024)\n",
    "        self.fc2 = nn.Linear(1024, 512)\n",
    "        self.fc3 = nn.Linear(512, 256)\n",
    "        self.fc4 = nn.Linear(256, 128)\n",
    "        self.out = nn.Linear(128, 10)\n",
    "        \n",
    "        self.dropout1 = nn.Dropout(0.25)\n",
    "        self.dropout2 = nn.Dropout(0.5)\n",
    "        \n",
    "        \n",
    "    def forward(self, X):\n",
    "        X = F.max_pool2d(self.batch_norm1(F.relu(self.conv1(X))), 2)\n",
    "        X = F.max_pool2d(self.batch_norm2(F.relu(self.conv2(X))), 2)\n",
    "        X = X.view(-1, 64*6*6)\n",
    "        X = F.relu(self.fc1(X))\n",
    "        X = self.dropout2(X)\n",
    "        X = F.relu(self.fc2(X))\n",
    "        X = self.dropout2(X)\n",
    "        X = F.relu(self.fc3(X))\n",
    "        X = self.dropout2(X)\n",
    "        X = F.relu(self.fc4(X))\n",
    "        X = self.dropout1(X)\n",
    "        X = self.out(X)   \n",
    "        return X"
   ]
  },
  {
   "cell_type": "code",
   "execution_count": 22,
   "metadata": {},
   "outputs": [
    {
     "name": "stdout",
     "output_type": "stream",
     "text": [
      "----------------------------------------------------------------\n",
      "        Layer (type)               Output Shape         Param #\n",
      "================================================================\n",
      "            Conv2d-1           [-1, 32, 28, 28]             320\n",
      "       BatchNorm2d-2           [-1, 32, 28, 28]              64\n",
      "            Conv2d-3           [-1, 64, 12, 12]          18,496\n",
      "       BatchNorm2d-4           [-1, 64, 12, 12]             128\n",
      "            Linear-5                 [-1, 1024]       2,360,320\n",
      "           Dropout-6                 [-1, 1024]               0\n",
      "            Linear-7                  [-1, 512]         524,800\n",
      "           Dropout-8                  [-1, 512]               0\n",
      "            Linear-9                  [-1, 256]         131,328\n",
      "          Dropout-10                  [-1, 256]               0\n",
      "           Linear-11                  [-1, 128]          32,896\n",
      "          Dropout-12                  [-1, 128]               0\n",
      "           Linear-13                   [-1, 10]           1,290\n",
      "================================================================\n",
      "Total params: 3,069,642\n",
      "Trainable params: 3,069,642\n",
      "Non-trainable params: 0\n",
      "----------------------------------------------------------------\n",
      "Input size (MB): 0.00\n",
      "Forward/backward pass size (MB): 0.55\n",
      "Params size (MB): 11.71\n",
      "Estimated Total Size (MB): 12.27\n",
      "----------------------------------------------------------------\n"
     ]
    }
   ],
   "source": [
    "# Above Model Architecture. Needs torchsummary library\n",
    "\n",
    "summary(ConvNet().to(\"cuda\"), (1, 28, 28))"
   ]
  },
  {
   "cell_type": "markdown",
   "metadata": {},
   "source": [
    "## CNN Model without using Dropout"
   ]
  },
  {
   "cell_type": "code",
   "execution_count": 8,
   "metadata": {},
   "outputs": [],
   "source": [
    "class ConvNetNoDropout(nn.Module):\n",
    "    def __init__(self):\n",
    "        super(ConvNetNoDropout, self).__init__()\n",
    "        self.conv1 = nn.Conv2d(in_channels=1, out_channels=32, kernel_size=3, stride=1, padding=1)\n",
    "        self.batch_norm1 = nn.BatchNorm2d(32)\n",
    "        self.conv2 = nn.Conv2d(in_channels=32, out_channels=64, kernel_size=3, stride=1, padding=0)\n",
    "        self.batch_norm2 = nn.BatchNorm2d(64)\n",
    "        \n",
    "        self.fc1 = nn.Linear(64*6*6, 1024)\n",
    "        self.fc2 = nn.Linear(1024, 512)\n",
    "        self.fc3 = nn.Linear(512, 256)\n",
    "        self.fc4 = nn.Linear(256, 128)\n",
    "        self.out = nn.Linear(128, 10)\n",
    "        \n",
    "        \n",
    "    def forward(self, X):\n",
    "        X = F.max_pool2d(self.batch_norm1(F.relu(self.conv1(X))), 2)\n",
    "        X = F.max_pool2d(self.batch_norm2(F.relu(self.conv2(X))), 2)\n",
    "        X = X.view(-1, 64*6*6)\n",
    "        X = F.relu(self.fc1(X))\n",
    "        X = F.relu(self.fc2(X))\n",
    "        X = F.relu(self.fc3(X))\n",
    "        X = F.relu(self.fc4(X))\n",
    "        X = self.out(X)   \n",
    "        return X"
   ]
  },
  {
   "cell_type": "markdown",
   "metadata": {},
   "source": [
    "## Training & Evaluation"
   ]
  },
  {
   "cell_type": "code",
   "execution_count": 23,
   "metadata": {},
   "outputs": [],
   "source": [
    "def train(model, device, train_loader, optimizer, criterion, epoch):\n",
    "    model.train()\n",
    "    losses = []\n",
    "    correct = 0\n",
    "    for batch_idx, batch_sample in enumerate(train_loader):\n",
    "        data, target = batch_sample\n",
    "        data, target = data.to(device), target.to(device)\n",
    "        \n",
    "        optimizer.zero_grad()\n",
    "        \n",
    "        output = model(data)\n",
    "        loss = criterion(output, target)\n",
    "        loss.backward()\n",
    "        optimizer.step()\n",
    "        \n",
    "        losses.append(loss.item())\n",
    "        pred = output.argmax(dim=1, keepdim=True)\n",
    "        correct += pred.eq(target.view_as(pred)).sum().item()\n",
    "    train_loss = float(np.mean(losses))\n",
    "    train_acc = correct / ((batch_idx+1) * config.batch_size)\n",
    "    print('Train set: Loss: {:.4f}, Accuracy: {}/{} ({:.2f}%)'.format(\n",
    "        float(np.mean(losses)), correct, (batch_idx+1) * config.batch_size,\n",
    "        100. * correct / ((batch_idx+1) * config.batch_size)))\n",
    "    return train_loss, train_acc"
   ]
  },
  {
   "cell_type": "code",
   "execution_count": 24,
   "metadata": {},
   "outputs": [],
   "source": [
    "def validation(model, device, valid_loader):\n",
    "    model.eval()\n",
    "    valid_loss = 0\n",
    "    correct = 0\n",
    "    with torch.no_grad():\n",
    "        for batch_idx, sample in enumerate(valid_loader):\n",
    "            data, target = sample\n",
    "            data, target = data.to(device), target.to(device)\n",
    "            output = model(data)\n",
    "            loss = F.cross_entropy(output, target, reduction='sum')\n",
    "            valid_loss += loss.item()\n",
    "            pred = output.argmax(dim=1, keepdim=True)\n",
    "            correct += pred.eq(target.view_as(pred)).sum().item()\n",
    "    valid_loss /= len(valid_loader.dataset)\n",
    "    accuracy = 100. * correct / len(valid_loader.dataset)\n",
    "    print('Validation set: Average loss: {:.4f}, Accuracy: {}/{} ({:.2f}%)'.format(\n",
    "        valid_loss, correct, len(valid_loader.dataset),\n",
    "        100. * correct / len(valid_loader.dataset)))\n",
    "    return valid_loss, accuracy"
   ]
  },
  {
   "cell_type": "code",
   "execution_count": 25,
   "metadata": {},
   "outputs": [],
   "source": [
    "def test(model, device, test_loader):\n",
    "    model.eval()\n",
    "    test_loss = 0\n",
    "    correct = 0\n",
    "    with torch.no_grad():\n",
    "        for batch_idx, sample in enumerate(test_loader):\n",
    "            data, target = sample\n",
    "            data, target = data.to(device), target.to(device)\n",
    "            output = model(data)\n",
    "            loss = F.cross_entropy(output, target, reduction='sum')\n",
    "            test_loss += loss.item()\n",
    "            pred = output.argmax(dim=1, keepdim=True)\n",
    "            correct += pred.eq(target.view_as(pred)).sum().item()\n",
    "    test_loss /= len(test_loader.dataset)\n",
    "    accuracy = 100. * correct / len(test_loader.dataset)\n",
    "    print('Test set: Average loss: {:.4f}, Accuracy: {}/{} ({:.2f}%)'.format(\n",
    "        test_loss, correct, len(test_loader.dataset),\n",
    "        100. * correct / len(test_loader.dataset)))\n",
    "    return test_loss, accuracy"
   ]
  },
  {
   "cell_type": "code",
   "execution_count": 26,
   "metadata": {
    "scrolled": true
   },
   "outputs": [],
   "source": [
    "def main(config, model):\n",
    "    is_cuda = torch.cuda.is_available()\n",
    "    device = torch.device(\"cuda\" if is_cuda else \"cpu\")\n",
    "    print(\"Selected Torch Device: \", device)\n",
    "    model = model.to(device)\n",
    "\n",
    "    criterion = nn.CrossEntropyLoss()\n",
    "    optimizer = optim.Adam(model.parameters(), lr=config.learning_rate, weight_decay=1e-8)\n",
    "    scheduler = optim.lr_scheduler.ReduceLROnPlateau(optimizer, mode='min', patience=4)\n",
    "\n",
    "    if config.cp_dir:\n",
    "        checkpoint = torch.load(config.cp_dir)\n",
    "        model.load_state_dict(checkpoint['state_dict'])\n",
    "        optimizer.load_state_dict(checkpoint['optimizer'])\n",
    "    \n",
    "    train_loader, valid_loader, test_loader = get_train_valid_test_loaders(train_set, \n",
    "                                                                           valid_set, \n",
    "                                                                           test_set, \n",
    "                                                                           batch_size=config.batch_size, \n",
    "                                                                           num_workers=4)\n",
    "\n",
    "    best_accuracy = 0.0\n",
    "    writer = SummaryWriter(\"runs/\"+config.plots_dir, comment=f'LR_{config.learning_rate}_BS_{config.batch_size}')\n",
    "\n",
    "    for epoch in range(1, config.num_epochs+1):\n",
    "        print(f'\\nepoch #{epoch}')\n",
    "        train_loss, train_accuracy = train(model, device, train_loader, \n",
    "                                           optimizer, criterion, epoch)\n",
    "        valid_loss, valid_accuracy = validation(model, device, valid_loader)\n",
    "        test_loss, test_accuracy = test(model, device, test_loader)\n",
    "        scheduler.step(valid_loss)\n",
    "        writer.add_scalar('Loss/train', train_loss, epoch)\n",
    "        writer.add_scalar('Loss/valid', valid_loss, epoch)\n",
    "        writer.add_scalar('Loss/test', test_loss, epoch)\n",
    "        writer.add_scalar('Accuracy/train', train_accuracy, epoch)\n",
    "        writer.add_scalar('Accuracy/valid', valid_accuracy, epoch)\n",
    "        writer.add_scalar('Accuracy/test', test_accuracy, epoch)        \n",
    "        writer.add_scalar('LR', optimizer.param_groups[0]['lr'], epoch)\n",
    "        if test_accuracy > best_accuracy and config.save_dir:\n",
    "            best_accuracy = test_accuracy\n",
    "            save_file_path = os.path.join(config.save_dir, 'model_{}_{:2.2f}.pth'.format(epoch, best_accuracy))\n",
    "            states = {\n",
    "                'epoch': epoch + 1,\n",
    "                'state_dict': model.state_dict(),\n",
    "                'optimizer': optimizer.state_dict(),\n",
    "                'best_accuracy': best_accuracy\n",
    "            }\n",
    "            try:\n",
    "                os.mkdir(config.save_dir)\n",
    "            except:\n",
    "                pass\n",
    "            torch.save(states, save_file_path)\n",
    "            print('Model saved ', str(save_file_path))\n",
    "    writer.flush()\n",
    "    writer.close()\n",
    "    print('Training Finished')"
   ]
  },
  {
   "cell_type": "markdown",
   "metadata": {},
   "source": [
    "## Set Configuration"
   ]
  },
  {
   "cell_type": "code",
   "execution_count": 27,
   "metadata": {},
   "outputs": [],
   "source": [
    "class Config:\n",
    "    def __init__(self, learning_rate=0.001, num_epochs=25, batch_size=128, plots_dir='plots', save_dir='./checkpoints/', cp_dir=''):\n",
    "        self.learning_rate = learning_rate\n",
    "        self.num_epochs = num_epochs\n",
    "        self.batch_size = batch_size\n",
    "        self.cp_dir = cp_dir\n",
    "        self.plots_dir = plots_dir\n",
    "        self.save_dir = save_dir"
   ]
  },
  {
   "cell_type": "markdown",
   "metadata": {},
   "source": [
    "## ConvNet (With Dropout, Random Horizontal Flips used)"
   ]
  },
  {
   "cell_type": "code",
   "execution_count": 28,
   "metadata": {
    "scrolled": false
   },
   "outputs": [
    {
     "name": "stdout",
     "output_type": "stream",
     "text": [
      "Selected Torch Device:  cuda\n",
      "\n",
      "epoch #1\n",
      "Train set: Loss: 0.5529, Accuracy: 48262/60032 (80.39%)\n",
      "Validation set: Average loss: 0.3430, Accuracy: 7048/8000 (88.10%)\n",
      "Test set: Average loss: 0.3172, Accuracy: 1798/2000 (89.90%)\n",
      "Model saved  ./checkpoints/model_1_89.90.pth\n",
      "\n",
      "epoch #2\n",
      "Train set: Loss: 0.3360, Accuracy: 53186/60032 (88.60%)\n",
      "Validation set: Average loss: 0.3114, Accuracy: 7099/8000 (88.74%)\n",
      "Test set: Average loss: 0.2955, Accuracy: 1789/2000 (89.45%)\n",
      "\n",
      "epoch #3\n",
      "Train set: Loss: 0.2904, Accuracy: 54117/60032 (90.15%)\n",
      "Validation set: Average loss: 0.2687, Accuracy: 7237/8000 (90.46%)\n",
      "Test set: Average loss: 0.2510, Accuracy: 1825/2000 (91.25%)\n",
      "Model saved  ./checkpoints/model_3_91.25.pth\n",
      "\n",
      "epoch #4\n",
      "Train set: Loss: 0.2688, Accuracy: 54500/60032 (90.78%)\n",
      "Validation set: Average loss: 0.2655, Accuracy: 7258/8000 (90.72%)\n",
      "Test set: Average loss: 0.2457, Accuracy: 1830/2000 (91.50%)\n",
      "Model saved  ./checkpoints/model_4_91.50.pth\n",
      "\n",
      "epoch #5\n",
      "Train set: Loss: 0.2500, Accuracy: 54959/60032 (91.55%)\n",
      "Validation set: Average loss: 0.2668, Accuracy: 7225/8000 (90.31%)\n",
      "Test set: Average loss: 0.2494, Accuracy: 1812/2000 (90.60%)\n",
      "\n",
      "epoch #6\n",
      "Train set: Loss: 0.2328, Accuracy: 55274/60032 (92.07%)\n",
      "Validation set: Average loss: 0.2466, Accuracy: 7335/8000 (91.69%)\n",
      "Test set: Average loss: 0.2305, Accuracy: 1852/2000 (92.60%)\n",
      "Model saved  ./checkpoints/model_6_92.60.pth\n",
      "\n",
      "epoch #7\n",
      "Train set: Loss: 0.2191, Accuracy: 55492/60032 (92.44%)\n",
      "Validation set: Average loss: 0.2464, Accuracy: 7325/8000 (91.56%)\n",
      "Test set: Average loss: 0.2170, Accuracy: 1853/2000 (92.65%)\n",
      "Model saved  ./checkpoints/model_7_92.65.pth\n",
      "\n",
      "epoch #8\n",
      "Train set: Loss: 0.2152, Accuracy: 55729/60032 (92.83%)\n",
      "Validation set: Average loss: 0.2448, Accuracy: 7310/8000 (91.38%)\n",
      "Test set: Average loss: 0.2206, Accuracy: 1857/2000 (92.85%)\n",
      "Model saved  ./checkpoints/model_8_92.85.pth\n",
      "\n",
      "epoch #9\n",
      "Train set: Loss: 0.2053, Accuracy: 55880/60032 (93.08%)\n",
      "Validation set: Average loss: 0.2459, Accuracy: 7323/8000 (91.54%)\n",
      "Test set: Average loss: 0.2267, Accuracy: 1827/2000 (91.35%)\n",
      "\n",
      "epoch #10\n",
      "Train set: Loss: 0.1963, Accuracy: 56071/60032 (93.40%)\n",
      "Validation set: Average loss: 0.3015, Accuracy: 7240/8000 (90.50%)\n",
      "Test set: Average loss: 0.2598, Accuracy: 1823/2000 (91.15%)\n",
      "\n",
      "epoch #11\n",
      "Train set: Loss: 0.1888, Accuracy: 56119/60032 (93.48%)\n",
      "Validation set: Average loss: 0.2328, Accuracy: 7402/8000 (92.53%)\n",
      "Test set: Average loss: 0.2359, Accuracy: 1852/2000 (92.60%)\n",
      "\n",
      "epoch #12\n",
      "Train set: Loss: 0.1774, Accuracy: 56380/60032 (93.92%)\n",
      "Validation set: Average loss: 0.2502, Accuracy: 7339/8000 (91.74%)\n",
      "Test set: Average loss: 0.2244, Accuracy: 1857/2000 (92.85%)\n",
      "\n",
      "epoch #13\n",
      "Train set: Loss: 0.1740, Accuracy: 56472/60032 (94.07%)\n",
      "Validation set: Average loss: 0.2696, Accuracy: 7272/8000 (90.90%)\n",
      "Test set: Average loss: 0.2580, Accuracy: 1842/2000 (92.10%)\n",
      "\n",
      "epoch #14\n",
      "Train set: Loss: 0.1721, Accuracy: 56628/60032 (94.33%)\n",
      "Validation set: Average loss: 0.2388, Accuracy: 7351/8000 (91.89%)\n",
      "Test set: Average loss: 0.2281, Accuracy: 1831/2000 (91.55%)\n",
      "\n",
      "epoch #15\n",
      "Train set: Loss: 0.1598, Accuracy: 56853/60032 (94.70%)\n",
      "Validation set: Average loss: 0.2477, Accuracy: 7373/8000 (92.16%)\n",
      "Test set: Average loss: 0.2287, Accuracy: 1858/2000 (92.90%)\n",
      "Model saved  ./checkpoints/model_15_92.90.pth\n",
      "\n",
      "epoch #16\n",
      "Train set: Loss: 0.1604, Accuracy: 56854/60032 (94.71%)\n",
      "Validation set: Average loss: 0.2689, Accuracy: 7295/8000 (91.19%)\n",
      "Test set: Average loss: 0.2604, Accuracy: 1832/2000 (91.60%)\n",
      "\n",
      "epoch #17\n",
      "Train set: Loss: 0.1305, Accuracy: 57387/60032 (95.59%)\n",
      "Validation set: Average loss: 0.2231, Accuracy: 7448/8000 (93.10%)\n",
      "Test set: Average loss: 0.1972, Accuracy: 1877/2000 (93.85%)\n",
      "Model saved  ./checkpoints/model_17_93.85.pth\n",
      "\n",
      "epoch #18\n",
      "Train set: Loss: 0.1128, Accuracy: 57687/60032 (96.09%)\n",
      "Validation set: Average loss: 0.2214, Accuracy: 7468/8000 (93.35%)\n",
      "Test set: Average loss: 0.2184, Accuracy: 1873/2000 (93.65%)\n",
      "\n",
      "epoch #19\n",
      "Train set: Loss: 0.1029, Accuracy: 57871/60032 (96.40%)\n",
      "Validation set: Average loss: 0.2254, Accuracy: 7461/8000 (93.26%)\n",
      "Test set: Average loss: 0.2089, Accuracy: 1884/2000 (94.20%)\n",
      "Model saved  ./checkpoints/model_19_94.20.pth\n",
      "\n",
      "epoch #20\n",
      "Train set: Loss: 0.0985, Accuracy: 57933/60032 (96.50%)\n",
      "Validation set: Average loss: 0.2356, Accuracy: 7455/8000 (93.19%)\n",
      "Test set: Average loss: 0.2300, Accuracy: 1876/2000 (93.80%)\n",
      "\n",
      "epoch #21\n",
      "Train set: Loss: 0.0939, Accuracy: 58031/60032 (96.67%)\n",
      "Validation set: Average loss: 0.2324, Accuracy: 7447/8000 (93.09%)\n",
      "Test set: Average loss: 0.2390, Accuracy: 1866/2000 (93.30%)\n",
      "\n",
      "epoch #22\n",
      "Train set: Loss: 0.0901, Accuracy: 58167/60032 (96.89%)\n",
      "Validation set: Average loss: 0.2470, Accuracy: 7467/8000 (93.34%)\n",
      "Test set: Average loss: 0.2505, Accuracy: 1869/2000 (93.45%)\n",
      "\n",
      "epoch #23\n",
      "Train set: Loss: 0.0837, Accuracy: 58247/60032 (97.03%)\n",
      "Validation set: Average loss: 0.2479, Accuracy: 7464/8000 (93.30%)\n",
      "Test set: Average loss: 0.2363, Accuracy: 1874/2000 (93.70%)\n",
      "\n",
      "epoch #24\n",
      "Train set: Loss: 0.0811, Accuracy: 58298/60032 (97.11%)\n",
      "Validation set: Average loss: 0.2414, Accuracy: 7494/8000 (93.67%)\n",
      "Test set: Average loss: 0.2367, Accuracy: 1882/2000 (94.10%)\n",
      "\n",
      "epoch #25\n",
      "Train set: Loss: 0.0774, Accuracy: 58364/60032 (97.22%)\n",
      "Validation set: Average loss: 0.2512, Accuracy: 7469/8000 (93.36%)\n",
      "Test set: Average loss: 0.2508, Accuracy: 1877/2000 (93.85%)\n",
      "Training Finished\n"
     ]
    }
   ],
   "source": [
    "# ConvNet with dropout\n",
    "\n",
    "model = ConvNet()\n",
    "config = Config(plots_dir='convnet_dropout')\n",
    "main(config, model)"
   ]
  },
  {
   "cell_type": "markdown",
   "metadata": {},
   "source": [
    "## ConvNet (Without Dropout, Random Horizontal Flips used)"
   ]
  },
  {
   "cell_type": "code",
   "execution_count": 16,
   "metadata": {
    "scrolled": false
   },
   "outputs": [
    {
     "name": "stdout",
     "output_type": "stream",
     "text": [
      "Selected Torch Device:  cuda\n",
      "\n",
      "epoch #1\n",
      "Train set: Loss: 0.3694, Accuracy: 51921/60032 (86.49%)\n",
      "Validation set: Average loss: 0.3535, Accuracy: 6999/8000 (87.49%)\n",
      "Test set: Average loss: 0.3262, Accuracy: 1779/2000 (88.95%)\n",
      "Model saved  ./checkpoints/model_1_88.95.pth\n",
      "\n",
      "epoch #2\n",
      "Train set: Loss: 0.2326, Accuracy: 55043/60032 (91.69%)\n",
      "Validation set: Average loss: 0.2498, Accuracy: 7309/8000 (91.36%)\n",
      "Test set: Average loss: 0.2283, Accuracy: 1847/2000 (92.35%)\n",
      "Model saved  ./checkpoints/model_2_92.35.pth\n",
      "\n",
      "epoch #3\n",
      "Train set: Loss: 0.1854, Accuracy: 56008/60032 (93.30%)\n",
      "Validation set: Average loss: 0.2290, Accuracy: 7358/8000 (91.97%)\n",
      "Test set: Average loss: 0.2380, Accuracy: 1847/2000 (92.35%)\n",
      "\n",
      "epoch #4\n",
      "Train set: Loss: 0.1510, Accuracy: 56621/60032 (94.32%)\n",
      "Validation set: Average loss: 0.2628, Accuracy: 7267/8000 (90.84%)\n",
      "Test set: Average loss: 0.2725, Accuracy: 1808/2000 (90.40%)\n",
      "\n",
      "epoch #5\n",
      "Train set: Loss: 0.1253, Accuracy: 57246/60032 (95.36%)\n",
      "Validation set: Average loss: 0.2878, Accuracy: 7256/8000 (90.70%)\n",
      "Test set: Average loss: 0.2683, Accuracy: 1826/2000 (91.30%)\n",
      "\n",
      "epoch #6\n",
      "Train set: Loss: 0.1016, Accuracy: 57746/60032 (96.19%)\n",
      "Validation set: Average loss: 0.2741, Accuracy: 7378/8000 (92.22%)\n",
      "Test set: Average loss: 0.2687, Accuracy: 1845/2000 (92.25%)\n",
      "\n",
      "epoch #7\n",
      "Train set: Loss: 0.0838, Accuracy: 58188/60032 (96.93%)\n",
      "Validation set: Average loss: 0.3180, Accuracy: 7364/8000 (92.05%)\n",
      "Test set: Average loss: 0.3193, Accuracy: 1847/2000 (92.35%)\n",
      "\n",
      "epoch #8\n",
      "Train set: Loss: 0.0689, Accuracy: 58524/60032 (97.49%)\n",
      "Validation set: Average loss: 0.3176, Accuracy: 7371/8000 (92.14%)\n",
      "Test set: Average loss: 0.3206, Accuracy: 1828/2000 (91.40%)\n",
      "\n",
      "epoch #9\n",
      "Train set: Loss: 0.0257, Accuracy: 59488/60032 (99.09%)\n",
      "Validation set: Average loss: 0.3699, Accuracy: 7431/8000 (92.89%)\n",
      "Test set: Average loss: 0.3685, Accuracy: 1857/2000 (92.85%)\n",
      "Model saved  ./checkpoints/model_9_92.85.pth\n",
      "\n",
      "epoch #10\n",
      "Train set: Loss: 0.0119, Accuracy: 59751/60032 (99.53%)\n",
      "Validation set: Average loss: 0.4477, Accuracy: 7422/8000 (92.78%)\n",
      "Test set: Average loss: 0.4503, Accuracy: 1852/2000 (92.60%)\n",
      "\n",
      "epoch #11\n",
      "Train set: Loss: 0.0067, Accuracy: 59869/60032 (99.73%)\n",
      "Validation set: Average loss: 0.5075, Accuracy: 7428/8000 (92.85%)\n",
      "Test set: Average loss: 0.5306, Accuracy: 1839/2000 (91.95%)\n",
      "\n",
      "epoch #12\n",
      "Train set: Loss: 0.0037, Accuracy: 59929/60032 (99.83%)\n",
      "Validation set: Average loss: 0.5835, Accuracy: 7422/8000 (92.78%)\n",
      "Test set: Average loss: 0.5967, Accuracy: 1847/2000 (92.35%)\n",
      "\n",
      "epoch #13\n",
      "Train set: Loss: 0.0020, Accuracy: 59969/60032 (99.90%)\n",
      "Validation set: Average loss: 0.6467, Accuracy: 7414/8000 (92.67%)\n",
      "Test set: Average loss: 0.6657, Accuracy: 1853/2000 (92.65%)\n",
      "\n",
      "epoch #14\n",
      "Train set: Loss: 0.0008, Accuracy: 59990/60032 (99.93%)\n",
      "Validation set: Average loss: 0.6567, Accuracy: 7412/8000 (92.65%)\n",
      "Test set: Average loss: 0.6740, Accuracy: 1850/2000 (92.50%)\n",
      "\n",
      "epoch #15\n",
      "Train set: Loss: 0.0007, Accuracy: 59990/60032 (99.93%)\n",
      "Validation set: Average loss: 0.6718, Accuracy: 7418/8000 (92.72%)\n",
      "Test set: Average loss: 0.6889, Accuracy: 1850/2000 (92.50%)\n",
      "\n",
      "epoch #16\n",
      "Train set: Loss: 0.0006, Accuracy: 59993/60032 (99.94%)\n",
      "Validation set: Average loss: 0.6801, Accuracy: 7415/8000 (92.69%)\n",
      "Test set: Average loss: 0.6997, Accuracy: 1850/2000 (92.50%)\n",
      "\n",
      "epoch #17\n",
      "Train set: Loss: 0.0005, Accuracy: 59994/60032 (99.94%)\n",
      "Validation set: Average loss: 0.6968, Accuracy: 7417/8000 (92.71%)\n",
      "Test set: Average loss: 0.7171, Accuracy: 1850/2000 (92.50%)\n",
      "\n",
      "epoch #18\n",
      "Train set: Loss: 0.0004, Accuracy: 59998/60032 (99.94%)\n",
      "Validation set: Average loss: 0.7157, Accuracy: 7421/8000 (92.76%)\n",
      "Test set: Average loss: 0.7357, Accuracy: 1850/2000 (92.50%)\n",
      "\n",
      "epoch #19\n",
      "Train set: Loss: 0.0004, Accuracy: 59997/60032 (99.94%)\n",
      "Validation set: Average loss: 0.7137, Accuracy: 7420/8000 (92.75%)\n",
      "Test set: Average loss: 0.7341, Accuracy: 1850/2000 (92.50%)\n",
      "\n",
      "epoch #20\n",
      "Train set: Loss: 0.0004, Accuracy: 59998/60032 (99.94%)\n",
      "Validation set: Average loss: 0.7166, Accuracy: 7420/8000 (92.75%)\n",
      "Test set: Average loss: 0.7380, Accuracy: 1850/2000 (92.50%)\n",
      "\n",
      "epoch #21\n",
      "Train set: Loss: 0.0003, Accuracy: 59999/60032 (99.95%)\n",
      "Validation set: Average loss: 0.7182, Accuracy: 7415/8000 (92.69%)\n",
      "Test set: Average loss: 0.7403, Accuracy: 1850/2000 (92.50%)\n",
      "\n",
      "epoch #22\n",
      "Train set: Loss: 0.0003, Accuracy: 59999/60032 (99.95%)\n",
      "Validation set: Average loss: 0.7213, Accuracy: 7423/8000 (92.79%)\n",
      "Test set: Average loss: 0.7461, Accuracy: 1850/2000 (92.50%)\n",
      "\n",
      "epoch #23\n",
      "Train set: Loss: 0.0003, Accuracy: 59999/60032 (99.95%)\n",
      "Validation set: Average loss: 0.7261, Accuracy: 7418/8000 (92.72%)\n",
      "Test set: Average loss: 0.7459, Accuracy: 1850/2000 (92.50%)\n",
      "\n",
      "epoch #24\n",
      "Train set: Loss: 0.0003, Accuracy: 59999/60032 (99.95%)\n",
      "Validation set: Average loss: 0.7271, Accuracy: 7420/8000 (92.75%)\n",
      "Test set: Average loss: 0.7490, Accuracy: 1850/2000 (92.50%)\n",
      "\n",
      "epoch #25\n",
      "Train set: Loss: 0.0003, Accuracy: 59998/60032 (99.94%)\n",
      "Validation set: Average loss: 0.7241, Accuracy: 7418/8000 (92.72%)\n",
      "Test set: Average loss: 0.7455, Accuracy: 1849/2000 (92.45%)\n",
      "Training Finished\n"
     ]
    }
   ],
   "source": [
    "# ConvNet without dropout\n",
    "\n",
    "model = ConvNetNoDropout()\n",
    "config = Config(plots_dir='convnet_no_dropout')\n",
    "main(config, model)"
   ]
  },
  {
   "cell_type": "code",
   "execution_count": null,
   "metadata": {},
   "outputs": [],
   "source": []
  }
 ],
 "metadata": {
  "kernelspec": {
   "display_name": "Python 3",
   "language": "python",
   "name": "python3"
  },
  "language_info": {
   "codemirror_mode": {
    "name": "ipython",
    "version": 3
   },
   "file_extension": ".py",
   "mimetype": "text/x-python",
   "name": "python",
   "nbconvert_exporter": "python",
   "pygments_lexer": "ipython3",
   "version": "3.8.1"
  }
 },
 "nbformat": 4,
 "nbformat_minor": 4
}
